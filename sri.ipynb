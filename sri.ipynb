{
 "cells": [
  {
   "cell_type": "code",
   "execution_count": null,
   "id": "e0f5f083",
   "metadata": {},
   "outputs": [],
   "source": [
    "# !pip install tensorflow"
   ]
  },
  {
   "cell_type": "code",
   "execution_count": null,
   "id": "110d74c7",
   "metadata": {},
   "outputs": [],
   "source": [
    "import pandas as pd\n",
    "from sklearn.model_selection import train_test_split\n",
    "from sklearn.preprocessing import StandardScaler, OneHotEncoder\n",
    "from sklearn.compose import make_column_transformer\n",
    "from sklearn.model_selection import GroupShuffleSplit\n",
    "from tensorflow import keras\n",
    "from tensorflow.keras import layers\n",
    "from tensorflow.keras import callbacks\n",
    "from sklearn.metrics import mean_squared_error"
   ]
  },
  {
   "cell_type": "code",
   "execution_count": null,
   "id": "89c0d516",
   "metadata": {},
   "outputs": [],
   "source": [
    "import matplotlib.pyplot as plt\n",
    "plt.style.use('seaborn-whitegrid')\n",
    "# Set Matplotlib defaults\n",
    "plt.rc('figure', autolayout=True)\n",
    "plt.rc('axes', labelweight='bold', labelsize='large',\n",
    "       titleweight='bold', titlesize=18, titlepad=10)\n",
    "plt.rc('animation', html='html5')"
   ]
  },
  {
   "cell_type": "code",
   "execution_count": null,
   "id": "f4ccf2df",
   "metadata": {},
   "outputs": [],
   "source": [
    "df=pd.read_csv('./datasciencegroup.csv')"
   ]
  },
  {
   "cell_type": "code",
   "execution_count": null,
   "id": "9870f4d7",
   "metadata": {},
   "outputs": [],
   "source": [
    "df.columns"
   ]
  },
  {
   "cell_type": "code",
   "execution_count": null,
   "id": "3fc75621",
   "metadata": {},
   "outputs": [],
   "source": [
    "df_choose=df[['sub_age', 'sub_sex',\n",
    "       'sub_shift', 'sub_team', 'sub_role', 'sub_colls_same_sex_prtn',\n",
    "       'sub_health_h', 'sub_commitment_h', 'sub_perceptiveness_h',\n",
    "       'sub_dexterity_h', 'sub_sociality_h', 'sub_goodness_h',\n",
    "       'sub_strength_h', 'sub_openmindedness_h', 'sub_workstyle_h', 'sup_ID',\n",
    "        'sup_sub_age_diff', 'sup_sex',\n",
    "       'sup_role', 'sup_commitment_h', 'sup_perceptiveness_h',\n",
    "       'sup_goodness_h', \n",
    "       'event_weekday_name', 'actual_efficacy_h']].copy()"
   ]
  },
  {
   "cell_type": "code",
   "execution_count": null,
   "id": "c621de7f",
   "metadata": {},
   "outputs": [],
   "source": [
    "df_choose.head()"
   ]
  },
  {
   "cell_type": "code",
   "execution_count": null,
   "id": "51a01e1b",
   "metadata": {
    "scrolled": true
   },
   "outputs": [],
   "source": [
    "df_choose.dtypes"
   ]
  },
  {
   "cell_type": "code",
   "execution_count": null,
   "id": "634e28e9",
   "metadata": {},
   "outputs": [],
   "source": [
    "X = df_choose.copy()\n",
    "y = X.pop('actual_efficacy_h')\n",
    "\n",
    "quantitative_var=X.select_dtypes('float64')\n",
    "quantitative_var_col_names=quantitative_var.columns\n",
    "categori_var=X.select_dtypes('object')\n",
    "categori_var_col_names=categori_var.columns\n",
    "\n",
    "\n",
    "preprocessor = make_column_transformer(\n",
    "    (StandardScaler(), quantitative_var_col_names),\n",
    "    (OneHotEncoder(), categori_var_col_names),\n",
    ")\n",
    "\n",
    "X_train, X_valid, y_train, y_valid = train_test_split(X, y, test_size=0.33, random_state=42)\n",
    "\n",
    "\n",
    "X_train = preprocessor.fit_transform(X_train)\n",
    "X_valid = preprocessor.transform(X_valid)\n",
    "y_train = y_train\n",
    "y_valid = y_valid\n",
    "\n",
    "input_shape = [X_train.shape[1]]\n",
    "print(\"Input shape: {}\".format(input_shape))"
   ]
  },
  {
   "cell_type": "code",
   "execution_count": null,
   "id": "f22f81a6",
   "metadata": {},
   "outputs": [],
   "source": [
    "early_stopping =  callbacks.EarlyStopping(\n",
    "    min_delta=0.001, \n",
    "    patience=5, \n",
    "    restore_best_weights=True)"
   ]
  },
  {
   "cell_type": "code",
   "execution_count": null,
   "id": "d178df73",
   "metadata": {},
   "outputs": [],
   "source": [
    "model = keras.Sequential([\n",
    "    layers.Dense(128, activation='relu', input_shape=input_shape),\n",
    "    layers.Dense(64, activation='relu'),    \n",
    "    layers.Dense(1)\n",
    "])\n",
    "model.compile(\n",
    "    optimizer='adam',\n",
    "    loss='mae',\n",
    ")\n",
    "history = model.fit(\n",
    "    X_train, y_train,\n",
    "    validation_data=(X_valid, y_valid),\n",
    "    batch_size=512,\n",
    "    epochs=100,\n",
    "    callbacks=[early_stopping]\n",
    ")"
   ]
  },
  {
   "cell_type": "code",
   "execution_count": null,
   "id": "cbc77f8a",
   "metadata": {},
   "outputs": [],
   "source": [
    "print('MEA of Traning data',mean_squared_error(y_train, model.predict(X_train)))\n",
    "print('MEA of Test data',mean_squared_error(y_valid, model.predict(X_valid)))"
   ]
  },
  {
   "cell_type": "code",
   "execution_count": null,
   "id": "348fdacf",
   "metadata": {},
   "outputs": [],
   "source": [
    "history_df = pd.DataFrame(history.history)\n",
    "history_df.loc[:, ['loss', 'val_loss']].plot()\n",
    "print(\"Minimum Validation Loss: {:0.4f}\".format(history_df['val_loss'].min()));"
   ]
  },
  {
   "cell_type": "code",
   "execution_count": null,
   "id": "fe05233b",
   "metadata": {},
   "outputs": [],
   "source": []
  }
 ],
 "metadata": {
  "kernelspec": {
   "display_name": "Python 3 (ipykernel)",
   "language": "python",
   "name": "python3"
  },
  "language_info": {
   "codemirror_mode": {
    "name": "ipython",
    "version": 3
   },
   "file_extension": ".py",
   "mimetype": "text/x-python",
   "name": "python",
   "nbconvert_exporter": "python",
   "pygments_lexer": "ipython3",
   "version": "3.8.13"
  }
 },
 "nbformat": 4,
 "nbformat_minor": 5
}
